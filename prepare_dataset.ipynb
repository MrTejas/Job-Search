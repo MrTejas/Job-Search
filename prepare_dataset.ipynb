{
 "cells": [
  {
   "cell_type": "code",
   "execution_count": 22,
   "metadata": {},
   "outputs": [],
   "source": [
    "import pandas as pd\n",
    "import os\n",
    "import numpy as np\n"
   ]
  },
  {
   "cell_type": "code",
   "execution_count": 23,
   "metadata": {},
   "outputs": [
    {
     "name": "stdout",
     "output_type": "stream",
     "text": [
      "Combined Dataset Shape: (3324, 12)\n"
     ]
    }
   ],
   "source": [
    "# File paths (replace with your actual file paths)\n",
    "file_paths = ['./jobs_dataset/Data_Job_NY.csv', './jobs_dataset/Data_Job_SF.csv', './jobs_dataset/Data_Job_TX.csv', './jobs_dataset/Data_Job_WA.csv']\n",
    "\n",
    "# Load CSV files into DataFrames\n",
    "dataframes = [pd.read_csv(file_path) for file_path in file_paths]\n",
    "\n",
    "# Combine all DataFrames into one\n",
    "combined_df = pd.concat(dataframes, ignore_index=True)\n",
    "\n",
    "# Display the shape of the combined DataFrame\n",
    "print(f\"Combined Dataset Shape: {combined_df.shape}\")\n"
   ]
  },
  {
   "cell_type": "code",
   "execution_count": 24,
   "metadata": {},
   "outputs": [
    {
     "data": {
      "text/html": [
       "<div>\n",
       "<style scoped>\n",
       "    .dataframe tbody tr th:only-of-type {\n",
       "        vertical-align: middle;\n",
       "    }\n",
       "\n",
       "    .dataframe tbody tr th {\n",
       "        vertical-align: top;\n",
       "    }\n",
       "\n",
       "    .dataframe thead th {\n",
       "        text-align: right;\n",
       "    }\n",
       "</style>\n",
       "<table border=\"1\" class=\"dataframe\">\n",
       "  <thead>\n",
       "    <tr style=\"text-align: right;\">\n",
       "      <th></th>\n",
       "      <th>Job_title</th>\n",
       "      <th>Company</th>\n",
       "      <th>State</th>\n",
       "      <th>City</th>\n",
       "      <th>Min_Salary</th>\n",
       "      <th>Max_Salary</th>\n",
       "      <th>Job_Desc</th>\n",
       "      <th>Industry</th>\n",
       "      <th>Rating</th>\n",
       "      <th>Date_Posted</th>\n",
       "      <th>Valid_until</th>\n",
       "      <th>Job_Type</th>\n",
       "    </tr>\n",
       "  </thead>\n",
       "  <tbody>\n",
       "    <tr>\n",
       "      <th>0</th>\n",
       "      <td>Chief Marketing Officer (CMO)</td>\n",
       "      <td>National Debt Relief</td>\n",
       "      <td>NY</td>\n",
       "      <td>New York</td>\n",
       "      <td>-1</td>\n",
       "      <td>-1</td>\n",
       "      <td>Who We're Looking For:\\n\\nThe Chief Marketing ...</td>\n",
       "      <td>Finance</td>\n",
       "      <td>4.0</td>\n",
       "      <td>2020-05-08</td>\n",
       "      <td>2020-06-07</td>\n",
       "      <td>FULL_TIME</td>\n",
       "    </tr>\n",
       "    <tr>\n",
       "      <th>1</th>\n",
       "      <td>Registered Nurse</td>\n",
       "      <td>Queens Boulevard Endoscopy Center</td>\n",
       "      <td>NY</td>\n",
       "      <td>Rego Park</td>\n",
       "      <td>-1</td>\n",
       "      <td>-1</td>\n",
       "      <td>Queens Boulevard Endoscopy Center, an endoscop...</td>\n",
       "      <td>NaN</td>\n",
       "      <td>3.0</td>\n",
       "      <td>2020-04-25</td>\n",
       "      <td>2020-06-07</td>\n",
       "      <td>FULL_TIME</td>\n",
       "    </tr>\n",
       "    <tr>\n",
       "      <th>2</th>\n",
       "      <td>Dental Hygienist</td>\n",
       "      <td>Batista Dental</td>\n",
       "      <td>NJ</td>\n",
       "      <td>West New York</td>\n",
       "      <td>-1</td>\n",
       "      <td>-1</td>\n",
       "      <td>Part-time or Full-timedental hygienist positio...</td>\n",
       "      <td>NaN</td>\n",
       "      <td>NaN</td>\n",
       "      <td>2020-05-02</td>\n",
       "      <td>2020-06-07</td>\n",
       "      <td>PART_TIME</td>\n",
       "    </tr>\n",
       "    <tr>\n",
       "      <th>3</th>\n",
       "      <td>Senior Salesforce Developer</td>\n",
       "      <td>National Debt Relief</td>\n",
       "      <td>NY</td>\n",
       "      <td>New York</td>\n",
       "      <td>44587</td>\n",
       "      <td>82162</td>\n",
       "      <td>Principle Duties &amp; Responsibilities:\\n\\nAnalyz...</td>\n",
       "      <td>Finance</td>\n",
       "      <td>4.0</td>\n",
       "      <td>2020-05-08</td>\n",
       "      <td>2020-06-07</td>\n",
       "      <td>FULL_TIME</td>\n",
       "    </tr>\n",
       "    <tr>\n",
       "      <th>4</th>\n",
       "      <td>DEPUTY EXECUTIVE DIRECTOR, PROGRAM AND LEGAL A...</td>\n",
       "      <td>National Advocates for Pregnant Women</td>\n",
       "      <td>NY</td>\n",
       "      <td>New York</td>\n",
       "      <td>125410</td>\n",
       "      <td>212901</td>\n",
       "      <td>For FULL Job Announcement, visit our website: ...</td>\n",
       "      <td>NaN</td>\n",
       "      <td>NaN</td>\n",
       "      <td>2020-04-28</td>\n",
       "      <td>2020-06-07</td>\n",
       "      <td>FULL_TIME</td>\n",
       "    </tr>\n",
       "  </tbody>\n",
       "</table>\n",
       "</div>"
      ],
      "text/plain": [
       "                                           Job_title  \\\n",
       "0                      Chief Marketing Officer (CMO)   \n",
       "1                                   Registered Nurse   \n",
       "2                                   Dental Hygienist   \n",
       "3                        Senior Salesforce Developer   \n",
       "4  DEPUTY EXECUTIVE DIRECTOR, PROGRAM AND LEGAL A...   \n",
       "\n",
       "                                 Company State           City  Min_Salary  \\\n",
       "0                   National Debt Relief    NY       New York          -1   \n",
       "1      Queens Boulevard Endoscopy Center    NY      Rego Park          -1   \n",
       "2                         Batista Dental    NJ  West New York          -1   \n",
       "3                   National Debt Relief    NY       New York       44587   \n",
       "4  National Advocates for Pregnant Women    NY       New York      125410   \n",
       "\n",
       "   Max_Salary                                           Job_Desc Industry  \\\n",
       "0          -1  Who We're Looking For:\\n\\nThe Chief Marketing ...  Finance   \n",
       "1          -1  Queens Boulevard Endoscopy Center, an endoscop...      NaN   \n",
       "2          -1  Part-time or Full-timedental hygienist positio...      NaN   \n",
       "3       82162  Principle Duties & Responsibilities:\\n\\nAnalyz...  Finance   \n",
       "4      212901  For FULL Job Announcement, visit our website: ...      NaN   \n",
       "\n",
       "   Rating Date_Posted Valid_until   Job_Type  \n",
       "0     4.0  2020-05-08  2020-06-07  FULL_TIME  \n",
       "1     3.0  2020-04-25  2020-06-07  FULL_TIME  \n",
       "2     NaN  2020-05-02  2020-06-07  PART_TIME  \n",
       "3     4.0  2020-05-08  2020-06-07  FULL_TIME  \n",
       "4     NaN  2020-04-28  2020-06-07  FULL_TIME  "
      ]
     },
     "metadata": {},
     "output_type": "display_data"
    },
    {
     "name": "stdout",
     "output_type": "stream",
     "text": [
      "<class 'pandas.core.frame.DataFrame'>\n",
      "RangeIndex: 3324 entries, 0 to 3323\n",
      "Data columns (total 12 columns):\n",
      " #   Column       Non-Null Count  Dtype  \n",
      "---  ------       --------------  -----  \n",
      " 0   Job_title    3324 non-null   object \n",
      " 1   Company      3324 non-null   object \n",
      " 2   State        3322 non-null   object \n",
      " 3   City         3318 non-null   object \n",
      " 4   Min_Salary   3324 non-null   int64  \n",
      " 5   Max_Salary   3324 non-null   int64  \n",
      " 6   Job_Desc     3324 non-null   object \n",
      " 7   Industry     2700 non-null   object \n",
      " 8   Rating       2849 non-null   float64\n",
      " 9   Date_Posted  3324 non-null   object \n",
      " 10  Valid_until  3324 non-null   object \n",
      " 11  Job_Type     3324 non-null   object \n",
      "dtypes: float64(1), int64(2), object(9)\n",
      "memory usage: 311.8+ KB\n",
      "Job_title        0\n",
      "Company          0\n",
      "State            2\n",
      "City             6\n",
      "Min_Salary       0\n",
      "Max_Salary       0\n",
      "Job_Desc         0\n",
      "Industry       624\n",
      "Rating         475\n",
      "Date_Posted      0\n",
      "Valid_until      0\n",
      "Job_Type         0\n",
      "dtype: int64\n"
     ]
    }
   ],
   "source": [
    "# Display the first few rows\n",
    "display(combined_df.head())\n",
    "\n",
    "# Show summary info\n",
    "combined_df.info()\n",
    "\n",
    "# Check for missing values\n",
    "print(combined_df.isnull().sum())\n"
   ]
  },
  {
   "cell_type": "code",
   "execution_count": 25,
   "metadata": {},
   "outputs": [
    {
     "name": "stdout",
     "output_type": "stream",
     "text": [
      "Min_Salary    1092\n",
      "Max_Salary    1092\n",
      "dtype: int64\n",
      "Combined Dataset Shape: (3324, 12)\n"
     ]
    }
   ],
   "source": [
    "# Replace -1 in Min_Salary and Max_Salary with NaN\n",
    "combined_df['Min_Salary'] = combined_df['Min_Salary'].replace(-1, np.nan)\n",
    "combined_df['Max_Salary'] = combined_df['Max_Salary'].replace(-1, np.nan)\n",
    "\n",
    "# Display the updated missing value counts\n",
    "print(combined_df[['Min_Salary', 'Max_Salary']].isnull().sum())\n",
    "print(f\"Combined Dataset Shape: {combined_df.shape}\")\n",
    "\n",
    "\n"
   ]
  },
  {
   "cell_type": "code",
   "execution_count": 26,
   "metadata": {},
   "outputs": [
    {
     "name": "stdout",
     "output_type": "stream",
     "text": [
      "Combined Dataset Shape: (2849, 12)\n",
      "Combined Dataset Shape: (2849, 12)\n",
      "count    2849.000000\n",
      "mean        3.837733\n",
      "std         0.626777\n",
      "min         1.000000\n",
      "25%         3.500000\n",
      "50%         3.900000\n",
      "75%         4.200000\n",
      "max         5.000000\n",
      "Name: Rating, dtype: float64\n",
      "Combined Dataset Shape: (2849, 12)\n"
     ]
    }
   ],
   "source": [
    "# Remove rows where Rating is invalid (not between 0 and 5)\n",
    "combined_df = combined_df[(combined_df['Rating'] >= 0) & (combined_df['Rating'] <= 5)]\n",
    "print(f\"Combined Dataset Shape: {combined_df.shape}\")\n",
    "\n",
    "\n",
    "# Fill missing ratings with the average rating\n",
    "combined_df['Rating'] = combined_df['Rating'].fillna(combined_df['Rating'].mean())\n",
    "print(f\"Combined Dataset Shape: {combined_df.shape}\")\n",
    "\n",
    "\n",
    "# Display rating statistics\n",
    "print(combined_df['Rating'].describe())\n",
    "print(f\"Combined Dataset Shape: {combined_df.shape}\")\n",
    "\n"
   ]
  },
  {
   "cell_type": "code",
   "execution_count": 27,
   "metadata": {},
   "outputs": [
    {
     "name": "stdout",
     "output_type": "stream",
     "text": [
      "Combined Dataset Shape: (2849, 12)\n",
      "Combined Dataset Shape: (2849, 12)\n",
      "Date_Posted    0\n",
      "Valid_until    0\n",
      "dtype: int64\n"
     ]
    }
   ],
   "source": [
    "# Convert Date_Posted and Valid_until to datetime format\n",
    "combined_df['Date_Posted'] = pd.to_datetime(combined_df['Date_Posted'], format='%Y-%m-%d', errors='coerce')\n",
    "combined_df['Valid_until'] = pd.to_datetime(combined_df['Valid_until'], format='%Y-%m-%d', errors='coerce')\n",
    "\n",
    "print(f\"Combined Dataset Shape: {combined_df.shape}\")\n",
    "\n",
    "\n",
    "# Drop rows with invalid dates\n",
    "combined_df = combined_df.dropna(subset=['Date_Posted', 'Valid_until'])\n",
    "print(f\"Combined Dataset Shape: {combined_df.shape}\")\n",
    "\n",
    "\n",
    "# Check for any remaining issues in date columns\n",
    "print(combined_df[['Date_Posted', 'Valid_until']].isnull().sum())\n"
   ]
  },
  {
   "cell_type": "code",
   "execution_count": 28,
   "metadata": {},
   "outputs": [
    {
     "name": "stdout",
     "output_type": "stream",
     "text": [
      "['FULL_TIME' 'PART_TIME' 'OTHER' 'INTERN' 'CONTRACTOR' 'TEMPORARY']\n"
     ]
    }
   ],
   "source": [
    "# Strip whitespace from text columns\n",
    "text_columns = ['Job_title', 'Company', 'State', 'City', 'Industry', 'Job_Type']\n",
    "combined_df[text_columns] = combined_df[text_columns].apply(lambda x: x.str.strip())\n",
    "\n",
    "# Convert Job_Type to uppercase for consistency\n",
    "combined_df['Job_Type'] = combined_df['Job_Type'].str.upper()\n",
    "\n",
    "# Display unique job types\n",
    "print(combined_df['Job_Type'].unique())\n"
   ]
  },
  {
   "cell_type": "code",
   "execution_count": null,
   "metadata": {},
   "outputs": [
    {
     "name": "stdout",
     "output_type": "stream",
     "text": [
      "Cleaned dataset saved at: ./jobs_dataset/cleaned_dataset/cleaned_jobs_data.csv\n"
     ]
    }
   ],
   "source": [
    "# Create directory if it doesn't exist\n",
    "os.makedirs('./jobs_dataset/cleaned_dataset', exist_ok=True)\n",
    "\n",
    "# Save the cleaned dataset as a CSV file\n",
    "cleaned_file_path = './jobs_dataset/cleaned_dataset/cleaned_jobs_data.csv'\n",
    "combined_df.to_csv(cleaned_file_path, index=False)\n",
    "\n",
    "print(f\"Cleaned dataset saved at: {cleaned_file_path}\")"
   ]
  }
 ],
 "metadata": {
  "kernelspec": {
   "display_name": "Python 3",
   "language": "python",
   "name": "python3"
  },
  "language_info": {
   "codemirror_mode": {
    "name": "ipython",
    "version": 3
   },
   "file_extension": ".py",
   "mimetype": "text/x-python",
   "name": "python",
   "nbconvert_exporter": "python",
   "pygments_lexer": "ipython3",
   "version": "3.10.8"
  }
 },
 "nbformat": 4,
 "nbformat_minor": 2
}
